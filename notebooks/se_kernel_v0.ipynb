{
 "cells": [
  {
   "cell_type": "code",
   "execution_count": null,
   "metadata": {},
   "outputs": [],
   "source": [
    "import numpy as np\n",
    "import pandas as pd\n",
    "import matplotlib.pyplot as plt\n",
    "from itertools import chain\n",
    "\n",
    "%matplotlib inline"
   ]
  },
  {
   "cell_type": "code",
   "execution_count": null,
   "metadata": {},
   "outputs": [],
   "source": [
    "REDUCED = True # Reduce the data size for development and testing"
   ]
  },
  {
   "cell_type": "code",
   "execution_count": null,
   "metadata": {},
   "outputs": [],
   "source": [
    "from kaggle.competitions import twosigmanews\n",
    "env = twosigmanews.make_env()"
   ]
  },
  {
   "cell_type": "code",
   "execution_count": null,
   "metadata": {},
   "outputs": [],
   "source": [
    "(market_train_df, news_train_df) = env.get_training_data()"
   ]
  },
  {
   "cell_type": "code",
   "execution_count": null,
   "metadata": {},
   "outputs": [],
   "source": [
    "if REDUCED:\n",
    "    market_train_df = market_train_df.tail(10000)\n",
    "    news_train_df = news_train_df.tail(50000)"
   ]
  },
  {
   "cell_type": "code",
   "execution_count": null,
   "metadata": {},
   "outputs": [],
   "source": [
    "def clean_market_data(market_df, train=True):\n",
    "    '''Clean and preprocess the market data for training or testing.\n",
    "    \n",
    "    Parameters\n",
    "    ----------\n",
    "    market_df : dataframe\n",
    "        See https://www.kaggle.com/c/two-sigma-financial-news/data for full description of the dataframe.\n",
    "    train : bool\n",
    "        When true, adds the target variable to the dataframe.\n",
    "    \n",
    "    Returns\n",
    "    -------\n",
    "    dataframe \n",
    "        Cleaned market data.\n",
    "    \n",
    "    '''\n",
    "    # Select columns and drop NA\n",
    "    if train:\n",
    "        cols = ['assetCode', 'time', 'volume', 'open', 'returnsOpenPrevMktres1',\n",
    "                'returnsOpenPrevMktres10', 'returnsOpenNextMktres10']\n",
    "    else:\n",
    "        cols = ['assetCode', 'time', 'volume', 'open', 'returnsOpenPrevMktres1',\n",
    "                'returnsOpenPrevMktres10']\n",
    "    market_df = market_df.loc[:,cols]\n",
    "    market_df.dropna(inplace=True)\n",
    "    \n",
    "    # Normalize time\n",
    "    market_df.loc[:, 'time'] = market_df.time.dt.normalize()\n",
    "    \n",
    "    return market_df"
   ]
  },
  {
   "cell_type": "code",
   "execution_count": null,
   "metadata": {},
   "outputs": [],
   "source": [
    "def clean_news_data(news_df, extra_features= False):\n",
    "    '''Clean and preprocess the news data for training or testing.\n",
    "    \n",
    "    Parameters\n",
    "    ----------\n",
    "    news_df : dataframe\n",
    "        See https://www.kaggle.com/c/two-sigma-financial-news/data for full description of the dataframe.\n",
    "    extra_features : bool\n",
    "        When true, adds extra columns that SE added ('urgency', 'provider', 'bodySize', 'relevance').\n",
    "    \n",
    "    Returns\n",
    "    -------\n",
    "    dataframe \n",
    "        Cleaned news data.\n",
    "    \n",
    "    '''\n",
    "    # Select columns and drop NA\n",
    "    if extra_features:\n",
    "        cols = ['time','assetCodes', 'sentimentNegative', 'sentimentNeutral', 'sentimentPositive',\n",
    "                'urgency', 'provider', 'bodySize', 'relevance']\n",
    "    else:\n",
    "        cols = ['time','assetCodes', 'sentimentNegative', 'sentimentNeutral', 'sentimentPositive']\n",
    "    news_df = news_df.loc[:,cols]\n",
    "    news_df.dropna(inplace=True)\n",
    "    \n",
    "    # Normalize time\n",
    "    news_df.loc[:, 'time'] = news_df.time.dt.normalize()\n",
    "    \n",
    "    # assetCodes from String to List\n",
    "    news_df['assetCodes'] = news_df['assetCodes'].str.findall(f\"'([\\w\\./]+)'\")\n",
    "    \n",
    "    # Explode news on assetCodes\n",
    "    assetCodes_expanded = list(chain(*news_df['assetCodes']))\n",
    "    assetCodes_index = news_df.index.repeat(news_df['assetCodes'].apply(len))\n",
    "\n",
    "    assert len(assetCodes_expanded) == len(assetCodes_index)\n",
    "    \n",
    "    assetCodes_df =  pd.DataFrame({'index': assetCodes_index, 'assetCode': assetCodes_expanded})\n",
    "    news_df_exploded = news_df.merge(assetCodes_df, 'right', right_on='index', left_index=True, validate='1:m')\n",
    "    news_df_exploded.drop(['assetCodes', 'index'], 1, inplace=True)\n",
    "\n",
    "    if extra_features:\n",
    "        # Compute means for same date and assetCode\n",
    "        news_agg_dict = {\n",
    "            'sentimentNegative':'mean',\n",
    "            'sentimentNeutral':'mean',\n",
    "            'sentimentPositive':'mean',\n",
    "            'urgency':'mean',\n",
    "            'bodySize':'mean',\n",
    "            'relevance':'mean'\n",
    "            }\n",
    "        news_df_agg = news_df_exploded.groupby(['time', 'assetCode'], as_index=False).agg(news_agg_dict)\n",
    "        \n",
    "        # Add provider information\n",
    "        idx = news_df_exploded.groupby(['time', 'assetCode'])['urgency'].transform(max) == news_df_exploded['urgency']\n",
    "        news_df_exploded_2 = news_df_exploded[idx][['time', 'assetCode', 'provider']].drop_duplicates(['time', 'assetCode'])\n",
    "        news_df_agg = news_df_agg.merge(news_df_exploded_2, 'left', ['time', 'assetCode'])\n",
    "        \n",
    "        # One-hot encoding provider\n",
    "        ohe_provider = pd.get_dummies(news_df_agg['provider'])\n",
    "        news_df_agg = pd.concat([news_df_agg, ohe_provider], axis=1).drop(['provider'], axis=1)\n",
    "    \n",
    "    else:\n",
    "        # Compute means for same date and assetCode\n",
    "        news_agg_dict = {\n",
    "            'sentimentNegative':'mean',\n",
    "            'sentimentNeutral':'mean',\n",
    "            'sentimentPositive':'mean'\n",
    "            }\n",
    "        news_df_agg = news_df_exploded.groupby(['time', 'assetCode'], as_index=False).agg(news_agg_dict)\n",
    "    \n",
    "    return news_df_agg"
   ]
  },
  {
   "cell_type": "code",
   "execution_count": null,
   "metadata": {},
   "outputs": [],
   "source": [
    "def clean_data(market_df, news_df, train=True, extra_features=False):\n",
    "    '''Clean and preprocess the news and market data for training then merge them, to create a train set or test set.\n",
    "    \n",
    "    Parameters\n",
    "    ----------\n",
    "    market_df : dataframe\n",
    "        See https://www.kaggle.com/c/two-sigma-financial-news/data for full description of the dataframe.\n",
    "    news_df : dataframe\n",
    "        See https://www.kaggle.com/c/two-sigma-financial-news/data for full description of the dataframe.\n",
    "    train : bool\n",
    "        When true, creates both the input features and the target dataframes.\n",
    "    extra_features : bool\n",
    "        When true, adds extra columns that SE added ('urgency', 'provider', 'bodySize', 'relevance').\n",
    "        \n",
    "    Returns\n",
    "    -------\n",
    "    dataframe \n",
    "        Cleaned data ready to be fed to the model. Returns both the input and the target dataframes when train=True.\n",
    "    \n",
    "    '''\n",
    "    cleaned_market_df = clean_market_data(market_df, train)\n",
    "    cleaned_news_df = clean_news_data(news_df, extra_features)\n",
    "    \n",
    "    # Merge on market data\n",
    "    df_merged = cleaned_market_df.merge(cleaned_news_df, 'inner', ['time', 'assetCode'])\n",
    "    \n",
    "    if train:\n",
    "        y = df_merged['returnsOpenNextMktres10']\n",
    "        X = df_merged.drop(['returnsOpenNextMktres10'], axis=1)\n",
    "        return X, y\n",
    "    else:\n",
    "        return df_merged"
   ]
  },
  {
   "cell_type": "code",
   "execution_count": null,
   "metadata": {},
   "outputs": [],
   "source": [
    "#Final dataframes for training\n",
    "X_train, y_train = clean_data(market_train_df, news_train_df, extra_features=True)"
   ]
  },
  {
   "cell_type": "code",
   "execution_count": null,
   "metadata": {},
   "outputs": [],
   "source": []
  }
 ],
 "metadata": {
  "kernelspec": {
   "display_name": "Python 3",
   "language": "python",
   "name": "python3"
  },
  "language_info": {
   "codemirror_mode": {
    "name": "ipython",
    "version": 3
   },
   "file_extension": ".py",
   "mimetype": "text/x-python",
   "name": "python",
   "nbconvert_exporter": "python",
   "pygments_lexer": "ipython3",
   "version": "3.6.5"
  }
 },
 "nbformat": 4,
 "nbformat_minor": 2
}
