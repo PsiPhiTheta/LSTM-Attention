{
 "cells": [
  {
   "cell_type": "markdown",
   "metadata": {},
   "source": [
    "## Goal \n",
    "Filter non-continuous stocks after merging with the news data."
   ]
  },
  {
   "cell_type": "code",
   "execution_count": 20,
   "metadata": {},
   "outputs": [],
   "source": [
    "import sys\n",
    "sys.path.append(r'../models/')\n",
    "\n",
    "import pandas as pd\n",
    "import matplotlib.pyplot as plt\n",
    "from data_cleaning import MARKET_DATA_PATH, NEWS_DATA_PATH, clean_market_data, clean_news_data, clean_data\n",
    "\n",
    "%matplotlib inline"
   ]
  },
  {
   "cell_type": "code",
   "execution_count": 4,
   "metadata": {},
   "outputs": [],
   "source": [
    "market_train_df = pd.read_csv(MARKET_DATA_PATH)"
   ]
  },
  {
   "cell_type": "code",
   "execution_count": 5,
   "metadata": {},
   "outputs": [],
   "source": [
    "clean_market_df = clean_market_data(market_train_df)\n",
    "del market_train_df"
   ]
  },
  {
   "cell_type": "code",
   "execution_count": 6,
   "metadata": {},
   "outputs": [],
   "source": [
    "news_train_df = pd.read_csv(NEWS_DATA_PATH)"
   ]
  },
  {
   "cell_type": "code",
   "execution_count": 8,
   "metadata": {},
   "outputs": [],
   "source": [
    "clean_news_df = clean_news_data(news_train_df)\n",
    "del news_train_df"
   ]
  },
  {
   "cell_type": "code",
   "execution_count": 9,
   "metadata": {},
   "outputs": [
    {
     "data": {
      "text/html": [
       "<div>\n",
       "<style scoped>\n",
       "    .dataframe tbody tr th:only-of-type {\n",
       "        vertical-align: middle;\n",
       "    }\n",
       "\n",
       "    .dataframe tbody tr th {\n",
       "        vertical-align: top;\n",
       "    }\n",
       "\n",
       "    .dataframe thead th {\n",
       "        text-align: right;\n",
       "    }\n",
       "</style>\n",
       "<table border=\"1\" class=\"dataframe\">\n",
       "  <thead>\n",
       "    <tr style=\"text-align: right;\">\n",
       "      <th></th>\n",
       "      <th>time</th>\n",
       "      <th>assetCode</th>\n",
       "      <th>sentimentNegative</th>\n",
       "      <th>sentimentNeutral</th>\n",
       "      <th>sentimentPositive</th>\n",
       "      <th>urgency</th>\n",
       "      <th>bodySize</th>\n",
       "      <th>relevance</th>\n",
       "      <th>ACN</th>\n",
       "      <th>ACT</th>\n",
       "      <th>...</th>\n",
       "      <th>ONE</th>\n",
       "      <th>PNW</th>\n",
       "      <th>PRN</th>\n",
       "      <th>RNS</th>\n",
       "      <th>ROM</th>\n",
       "      <th>RTRS</th>\n",
       "      <th>SEHK</th>\n",
       "      <th>SET</th>\n",
       "      <th>SSN</th>\n",
       "      <th>TEN</th>\n",
       "    </tr>\n",
       "  </thead>\n",
       "  <tbody>\n",
       "    <tr>\n",
       "      <th>0</th>\n",
       "      <td>2007-01-01</td>\n",
       "      <td>0857.DE</td>\n",
       "      <td>0.500739</td>\n",
       "      <td>0.419327</td>\n",
       "      <td>0.079934</td>\n",
       "      <td>3.0</td>\n",
       "      <td>1438.0</td>\n",
       "      <td>0.235702</td>\n",
       "      <td>0</td>\n",
       "      <td>0</td>\n",
       "      <td>...</td>\n",
       "      <td>0</td>\n",
       "      <td>0</td>\n",
       "      <td>0</td>\n",
       "      <td>0</td>\n",
       "      <td>0</td>\n",
       "      <td>1</td>\n",
       "      <td>0</td>\n",
       "      <td>0</td>\n",
       "      <td>0</td>\n",
       "      <td>0</td>\n",
       "    </tr>\n",
       "    <tr>\n",
       "      <th>1</th>\n",
       "      <td>2007-01-01</td>\n",
       "      <td>0857.F</td>\n",
       "      <td>0.500739</td>\n",
       "      <td>0.419327</td>\n",
       "      <td>0.079934</td>\n",
       "      <td>3.0</td>\n",
       "      <td>1438.0</td>\n",
       "      <td>0.235702</td>\n",
       "      <td>0</td>\n",
       "      <td>0</td>\n",
       "      <td>...</td>\n",
       "      <td>0</td>\n",
       "      <td>0</td>\n",
       "      <td>0</td>\n",
       "      <td>0</td>\n",
       "      <td>0</td>\n",
       "      <td>1</td>\n",
       "      <td>0</td>\n",
       "      <td>0</td>\n",
       "      <td>0</td>\n",
       "      <td>0</td>\n",
       "    </tr>\n",
       "    <tr>\n",
       "      <th>2</th>\n",
       "      <td>2007-01-01</td>\n",
       "      <td>0857.HK</td>\n",
       "      <td>0.500739</td>\n",
       "      <td>0.419327</td>\n",
       "      <td>0.079934</td>\n",
       "      <td>3.0</td>\n",
       "      <td>1438.0</td>\n",
       "      <td>0.235702</td>\n",
       "      <td>0</td>\n",
       "      <td>0</td>\n",
       "      <td>...</td>\n",
       "      <td>0</td>\n",
       "      <td>0</td>\n",
       "      <td>0</td>\n",
       "      <td>0</td>\n",
       "      <td>0</td>\n",
       "      <td>1</td>\n",
       "      <td>0</td>\n",
       "      <td>0</td>\n",
       "      <td>0</td>\n",
       "      <td>0</td>\n",
       "    </tr>\n",
       "    <tr>\n",
       "      <th>3</th>\n",
       "      <td>2007-01-01</td>\n",
       "      <td>6758.T</td>\n",
       "      <td>0.146765</td>\n",
       "      <td>0.392352</td>\n",
       "      <td>0.460883</td>\n",
       "      <td>3.0</td>\n",
       "      <td>2742.0</td>\n",
       "      <td>0.204124</td>\n",
       "      <td>0</td>\n",
       "      <td>0</td>\n",
       "      <td>...</td>\n",
       "      <td>0</td>\n",
       "      <td>0</td>\n",
       "      <td>0</td>\n",
       "      <td>0</td>\n",
       "      <td>0</td>\n",
       "      <td>1</td>\n",
       "      <td>0</td>\n",
       "      <td>0</td>\n",
       "      <td>0</td>\n",
       "      <td>0</td>\n",
       "    </tr>\n",
       "    <tr>\n",
       "      <th>4</th>\n",
       "      <td>2007-01-01</td>\n",
       "      <td>BHP.AX</td>\n",
       "      <td>0.130677</td>\n",
       "      <td>0.465433</td>\n",
       "      <td>0.403891</td>\n",
       "      <td>3.0</td>\n",
       "      <td>9674.0</td>\n",
       "      <td>0.178174</td>\n",
       "      <td>0</td>\n",
       "      <td>0</td>\n",
       "      <td>...</td>\n",
       "      <td>0</td>\n",
       "      <td>0</td>\n",
       "      <td>0</td>\n",
       "      <td>0</td>\n",
       "      <td>0</td>\n",
       "      <td>1</td>\n",
       "      <td>0</td>\n",
       "      <td>0</td>\n",
       "      <td>0</td>\n",
       "      <td>0</td>\n",
       "    </tr>\n",
       "  </tbody>\n",
       "</table>\n",
       "<p>5 rows × 38 columns</p>\n",
       "</div>"
      ],
      "text/plain": [
       "        time assetCode  sentimentNegative  sentimentNeutral  \\\n",
       "0 2007-01-01   0857.DE           0.500739          0.419327   \n",
       "1 2007-01-01    0857.F           0.500739          0.419327   \n",
       "2 2007-01-01   0857.HK           0.500739          0.419327   \n",
       "3 2007-01-01    6758.T           0.146765          0.392352   \n",
       "4 2007-01-01    BHP.AX           0.130677          0.465433   \n",
       "\n",
       "   sentimentPositive  urgency  bodySize  relevance  ACN  ACT ...   ONE  PNW  \\\n",
       "0           0.079934      3.0    1438.0   0.235702    0    0 ...     0    0   \n",
       "1           0.079934      3.0    1438.0   0.235702    0    0 ...     0    0   \n",
       "2           0.079934      3.0    1438.0   0.235702    0    0 ...     0    0   \n",
       "3           0.460883      3.0    2742.0   0.204124    0    0 ...     0    0   \n",
       "4           0.403891      3.0    9674.0   0.178174    0    0 ...     0    0   \n",
       "\n",
       "   PRN  RNS  ROM  RTRS  SEHK  SET  SSN  TEN  \n",
       "0    0    0    0     1     0    0    0    0  \n",
       "1    0    0    0     1     0    0    0    0  \n",
       "2    0    0    0     1     0    0    0    0  \n",
       "3    0    0    0     1     0    0    0    0  \n",
       "4    0    0    0     1     0    0    0    0  \n",
       "\n",
       "[5 rows x 38 columns]"
      ]
     },
     "execution_count": 9,
     "metadata": {},
     "output_type": "execute_result"
    }
   ],
   "source": [
    "clean_news_df.head()"
   ]
  },
  {
   "cell_type": "code",
   "execution_count": 10,
   "metadata": {},
   "outputs": [
    {
     "data": {
      "text/plain": [
       "3652"
      ]
     },
     "execution_count": 10,
     "metadata": {},
     "output_type": "execute_result"
    }
   ],
   "source": [
    "clean_news_df.time.nunique()"
   ]
  },
  {
   "cell_type": "markdown",
   "metadata": {},
   "source": [
    "This number is larger than for the market data (2488). Probably because the weekends are included?"
   ]
  },
  {
   "cell_type": "code",
   "execution_count": 11,
   "metadata": {},
   "outputs": [
    {
     "data": {
      "text/plain": [
       "0"
      ]
     },
     "execution_count": 11,
     "metadata": {},
     "output_type": "execute_result"
    }
   ],
   "source": [
    "sizes = clean_news_df.groupby('assetCode').size()\n",
    "sel = sizes == clean_news_df.time.nunique()\n",
    "sum(sel)"
   ]
  },
  {
   "cell_type": "markdown",
   "metadata": {},
   "source": [
    "This is what I expected: it is very unlikely that news are published for a company every single day for 10+ years. Will probably have to engineer a feature taking the average of the different metrics over some period and add a feature of the number of articles included in the average (or the sum of their importance/urgency).\n",
    "\n",
    "But first, let's look at the distributions to have a better idea of the extend of the problem."
   ]
  },
  {
   "cell_type": "code",
   "execution_count": 21,
   "metadata": {},
   "outputs": [
    {
     "data": {
      "text/plain": [
       "(array([1.044e+03, 6.610e+02, 5.780e+02, 5.620e+02, 5.430e+02, 5.500e+02,\n",
       "        5.750e+02, 5.160e+02, 4.690e+02, 4.340e+02, 4.340e+02, 3.920e+02,\n",
       "        3.480e+02, 3.280e+02, 3.570e+02, 3.240e+02, 2.740e+02, 2.490e+02,\n",
       "        2.840e+02, 2.730e+02, 2.130e+02, 2.260e+02, 1.940e+02, 1.850e+02,\n",
       "        1.640e+02, 1.810e+02, 1.770e+02, 1.410e+02, 1.290e+02, 1.250e+02,\n",
       "        1.210e+02, 1.190e+02, 9.400e+01, 1.310e+02, 1.250e+02, 7.400e+01,\n",
       "        7.500e+01, 9.300e+01, 7.400e+01, 6.900e+01, 9.400e+01, 6.000e+01,\n",
       "        6.000e+01, 5.700e+01, 6.200e+01, 5.700e+01, 4.400e+01, 4.000e+01,\n",
       "        3.200e+01, 4.200e+01, 4.500e+01, 4.800e+01, 5.500e+01, 2.900e+01,\n",
       "        4.700e+01, 3.000e+01, 3.300e+01, 2.800e+01, 4.400e+01, 2.700e+01,\n",
       "        2.300e+01, 3.500e+01, 3.000e+01, 3.700e+01, 3.200e+01, 2.100e+01,\n",
       "        1.300e+01, 8.000e+00, 3.200e+01, 1.500e+01, 1.600e+01, 1.500e+01,\n",
       "        1.500e+01, 1.500e+01, 1.600e+01, 2.300e+01, 2.100e+01, 1.700e+01,\n",
       "        1.400e+01, 1.700e+01, 1.900e+01, 2.300e+01, 2.100e+01, 1.800e+01,\n",
       "        1.400e+01, 1.100e+01, 1.200e+01, 1.000e+01, 1.800e+01, 1.700e+01,\n",
       "        1.800e+01, 2.000e+01, 1.200e+01, 1.200e+01, 1.200e+01, 1.000e+01,\n",
       "        1.000e+01, 8.000e+00, 9.000e+00, 1.400e+01, 1.200e+01, 3.000e+00,\n",
       "        6.000e+00, 6.000e+00, 8.000e+00, 3.000e+00, 6.000e+00, 1.000e+01,\n",
       "        9.000e+00, 4.000e+00, 4.000e+00, 5.000e+00, 7.000e+00, 7.000e+00,\n",
       "        7.000e+00, 9.000e+00, 3.000e+00, 1.400e+01, 9.000e+00, 9.000e+00,\n",
       "        4.000e+00, 2.000e+00, 9.000e+00, 1.500e+01, 9.000e+00, 8.000e+00,\n",
       "        1.200e+01, 2.000e+00, 4.000e+00, 3.000e+00, 7.000e+00, 1.000e+01,\n",
       "        2.000e+00, 3.000e+00, 4.000e+00, 0.000e+00, 1.300e+01, 9.000e+00,\n",
       "        7.000e+00, 2.000e+00, 3.000e+00, 6.000e+00, 5.000e+00, 1.200e+01,\n",
       "        8.000e+00, 3.000e+00, 1.000e+01, 0.000e+00, 1.500e+01, 9.000e+00,\n",
       "        6.000e+00, 5.000e+00, 9.000e+00, 4.000e+00, 6.000e+00, 5.000e+00,\n",
       "        3.000e+00, 2.000e+00, 5.000e+00, 1.000e+00, 4.000e+00, 4.000e+00,\n",
       "        5.000e+00, 6.000e+00, 3.000e+00, 3.000e+00, 6.000e+00, 3.000e+00,\n",
       "        1.000e+00, 1.000e+00, 5.000e+00, 1.000e+00, 6.000e+00, 3.000e+00,\n",
       "        3.000e+00, 0.000e+00, 6.000e+00, 1.000e+00, 1.000e+00, 5.000e+00,\n",
       "        3.000e+00, 2.000e+00, 0.000e+00, 7.000e+00, 7.000e+00, 2.000e+00,\n",
       "        3.000e+00, 0.000e+00, 3.000e+00, 5.000e+00, 1.300e+01, 0.000e+00,\n",
       "        7.000e+00, 2.000e+00, 1.000e+00, 1.000e+00, 6.000e+00, 0.000e+00,\n",
       "        8.000e+00, 4.000e+00, 2.000e+00, 0.000e+00, 8.000e+00, 2.000e+00,\n",
       "        4.000e+00, 0.000e+00, 1.000e+00, 0.000e+00, 4.000e+00, 3.000e+00,\n",
       "        3.000e+00, 1.000e+00, 2.000e+00, 0.000e+00, 0.000e+00, 4.000e+00,\n",
       "        1.000e+00, 2.000e+00, 0.000e+00, 5.000e+00, 5.000e+00, 2.000e+00,\n",
       "        0.000e+00, 0.000e+00, 0.000e+00, 4.000e+00, 5.000e+00, 4.000e+00,\n",
       "        2.000e+00, 1.000e+00, 0.000e+00, 2.000e+00, 3.000e+00, 3.000e+00,\n",
       "        5.000e+00, 7.000e+00, 2.000e+00, 1.000e+00, 0.000e+00, 4.000e+00,\n",
       "        8.000e+00, 0.000e+00, 1.000e+00, 0.000e+00, 2.000e+00, 0.000e+00,\n",
       "        6.000e+00, 0.000e+00, 0.000e+00, 5.000e+00, 0.000e+00, 2.000e+00,\n",
       "        2.000e+00, 0.000e+00, 0.000e+00, 0.000e+00, 0.000e+00, 7.000e+00,\n",
       "        3.000e+00, 1.400e+01, 1.000e+00, 0.000e+00, 1.000e+00, 0.000e+00,\n",
       "        0.000e+00, 0.000e+00, 1.000e+00, 0.000e+00, 2.000e+00, 0.000e+00,\n",
       "        6.000e+00, 2.000e+00, 0.000e+00, 0.000e+00, 0.000e+00, 0.000e+00,\n",
       "        0.000e+00, 1.000e+00, 1.000e+00, 0.000e+00, 3.000e+00, 4.000e+00,\n",
       "        8.000e+00, 0.000e+00, 2.000e+00, 2.000e+00, 4.000e+00, 1.000e+00,\n",
       "        3.000e+00, 0.000e+00, 3.000e+00, 0.000e+00, 7.000e+00, 0.000e+00,\n",
       "        0.000e+00, 0.000e+00, 0.000e+00, 4.000e+00, 6.000e+00, 0.000e+00,\n",
       "        0.000e+00, 0.000e+00, 1.000e+00, 0.000e+00, 1.000e+00, 5.000e+00,\n",
       "        7.000e+00, 9.000e+00]),\n",
       " array([1.00000000e+00, 1.10292208e+01, 2.10584416e+01, 3.10876623e+01,\n",
       "        4.11168831e+01, 5.11461039e+01, 6.11753247e+01, 7.12045455e+01,\n",
       "        8.12337662e+01, 9.12629870e+01, 1.01292208e+02, 1.11321429e+02,\n",
       "        1.21350649e+02, 1.31379870e+02, 1.41409091e+02, 1.51438312e+02,\n",
       "        1.61467532e+02, 1.71496753e+02, 1.81525974e+02, 1.91555195e+02,\n",
       "        2.01584416e+02, 2.11613636e+02, 2.21642857e+02, 2.31672078e+02,\n",
       "        2.41701299e+02, 2.51730519e+02, 2.61759740e+02, 2.71788961e+02,\n",
       "        2.81818182e+02, 2.91847403e+02, 3.01876623e+02, 3.11905844e+02,\n",
       "        3.21935065e+02, 3.31964286e+02, 3.41993506e+02, 3.52022727e+02,\n",
       "        3.62051948e+02, 3.72081169e+02, 3.82110390e+02, 3.92139610e+02,\n",
       "        4.02168831e+02, 4.12198052e+02, 4.22227273e+02, 4.32256494e+02,\n",
       "        4.42285714e+02, 4.52314935e+02, 4.62344156e+02, 4.72373377e+02,\n",
       "        4.82402597e+02, 4.92431818e+02, 5.02461039e+02, 5.12490260e+02,\n",
       "        5.22519481e+02, 5.32548701e+02, 5.42577922e+02, 5.52607143e+02,\n",
       "        5.62636364e+02, 5.72665584e+02, 5.82694805e+02, 5.92724026e+02,\n",
       "        6.02753247e+02, 6.12782468e+02, 6.22811688e+02, 6.32840909e+02,\n",
       "        6.42870130e+02, 6.52899351e+02, 6.62928571e+02, 6.72957792e+02,\n",
       "        6.82987013e+02, 6.93016234e+02, 7.03045455e+02, 7.13074675e+02,\n",
       "        7.23103896e+02, 7.33133117e+02, 7.43162338e+02, 7.53191558e+02,\n",
       "        7.63220779e+02, 7.73250000e+02, 7.83279221e+02, 7.93308442e+02,\n",
       "        8.03337662e+02, 8.13366883e+02, 8.23396104e+02, 8.33425325e+02,\n",
       "        8.43454545e+02, 8.53483766e+02, 8.63512987e+02, 8.73542208e+02,\n",
       "        8.83571429e+02, 8.93600649e+02, 9.03629870e+02, 9.13659091e+02,\n",
       "        9.23688312e+02, 9.33717532e+02, 9.43746753e+02, 9.53775974e+02,\n",
       "        9.63805195e+02, 9.73834416e+02, 9.83863636e+02, 9.93892857e+02,\n",
       "        1.00392208e+03, 1.01395130e+03, 1.02398052e+03, 1.03400974e+03,\n",
       "        1.04403896e+03, 1.05406818e+03, 1.06409740e+03, 1.07412662e+03,\n",
       "        1.08415584e+03, 1.09418506e+03, 1.10421429e+03, 1.11424351e+03,\n",
       "        1.12427273e+03, 1.13430195e+03, 1.14433117e+03, 1.15436039e+03,\n",
       "        1.16438961e+03, 1.17441883e+03, 1.18444805e+03, 1.19447727e+03,\n",
       "        1.20450649e+03, 1.21453571e+03, 1.22456494e+03, 1.23459416e+03,\n",
       "        1.24462338e+03, 1.25465260e+03, 1.26468182e+03, 1.27471104e+03,\n",
       "        1.28474026e+03, 1.29476948e+03, 1.30479870e+03, 1.31482792e+03,\n",
       "        1.32485714e+03, 1.33488636e+03, 1.34491558e+03, 1.35494481e+03,\n",
       "        1.36497403e+03, 1.37500325e+03, 1.38503247e+03, 1.39506169e+03,\n",
       "        1.40509091e+03, 1.41512013e+03, 1.42514935e+03, 1.43517857e+03,\n",
       "        1.44520779e+03, 1.45523701e+03, 1.46526623e+03, 1.47529545e+03,\n",
       "        1.48532468e+03, 1.49535390e+03, 1.50538312e+03, 1.51541234e+03,\n",
       "        1.52544156e+03, 1.53547078e+03, 1.54550000e+03, 1.55552922e+03,\n",
       "        1.56555844e+03, 1.57558766e+03, 1.58561688e+03, 1.59564610e+03,\n",
       "        1.60567532e+03, 1.61570455e+03, 1.62573377e+03, 1.63576299e+03,\n",
       "        1.64579221e+03, 1.65582143e+03, 1.66585065e+03, 1.67587987e+03,\n",
       "        1.68590909e+03, 1.69593831e+03, 1.70596753e+03, 1.71599675e+03,\n",
       "        1.72602597e+03, 1.73605519e+03, 1.74608442e+03, 1.75611364e+03,\n",
       "        1.76614286e+03, 1.77617208e+03, 1.78620130e+03, 1.79623052e+03,\n",
       "        1.80625974e+03, 1.81628896e+03, 1.82631818e+03, 1.83634740e+03,\n",
       "        1.84637662e+03, 1.85640584e+03, 1.86643506e+03, 1.87646429e+03,\n",
       "        1.88649351e+03, 1.89652273e+03, 1.90655195e+03, 1.91658117e+03,\n",
       "        1.92661039e+03, 1.93663961e+03, 1.94666883e+03, 1.95669805e+03,\n",
       "        1.96672727e+03, 1.97675649e+03, 1.98678571e+03, 1.99681494e+03,\n",
       "        2.00684416e+03, 2.01687338e+03, 2.02690260e+03, 2.03693182e+03,\n",
       "        2.04696104e+03, 2.05699026e+03, 2.06701948e+03, 2.07704870e+03,\n",
       "        2.08707792e+03, 2.09710714e+03, 2.10713636e+03, 2.11716558e+03,\n",
       "        2.12719481e+03, 2.13722403e+03, 2.14725325e+03, 2.15728247e+03,\n",
       "        2.16731169e+03, 2.17734091e+03, 2.18737013e+03, 2.19739935e+03,\n",
       "        2.20742857e+03, 2.21745779e+03, 2.22748701e+03, 2.23751623e+03,\n",
       "        2.24754545e+03, 2.25757468e+03, 2.26760390e+03, 2.27763312e+03,\n",
       "        2.28766234e+03, 2.29769156e+03, 2.30772078e+03, 2.31775000e+03,\n",
       "        2.32777922e+03, 2.33780844e+03, 2.34783766e+03, 2.35786688e+03,\n",
       "        2.36789610e+03, 2.37792532e+03, 2.38795455e+03, 2.39798377e+03,\n",
       "        2.40801299e+03, 2.41804221e+03, 2.42807143e+03, 2.43810065e+03,\n",
       "        2.44812987e+03, 2.45815909e+03, 2.46818831e+03, 2.47821753e+03,\n",
       "        2.48824675e+03, 2.49827597e+03, 2.50830519e+03, 2.51833442e+03,\n",
       "        2.52836364e+03, 2.53839286e+03, 2.54842208e+03, 2.55845130e+03,\n",
       "        2.56848052e+03, 2.57850974e+03, 2.58853896e+03, 2.59856818e+03,\n",
       "        2.60859740e+03, 2.61862662e+03, 2.62865584e+03, 2.63868506e+03,\n",
       "        2.64871429e+03, 2.65874351e+03, 2.66877273e+03, 2.67880195e+03,\n",
       "        2.68883117e+03, 2.69886039e+03, 2.70888961e+03, 2.71891883e+03,\n",
       "        2.72894805e+03, 2.73897727e+03, 2.74900649e+03, 2.75903571e+03,\n",
       "        2.76906494e+03, 2.77909416e+03, 2.78912338e+03, 2.79915260e+03,\n",
       "        2.80918182e+03, 2.81921104e+03, 2.82924026e+03, 2.83926948e+03,\n",
       "        2.84929870e+03, 2.85932792e+03, 2.86935714e+03, 2.87938636e+03,\n",
       "        2.88941558e+03, 2.89944481e+03, 2.90947403e+03, 2.91950325e+03,\n",
       "        2.92953247e+03, 2.93956169e+03, 2.94959091e+03, 2.95962013e+03,\n",
       "        2.96964935e+03, 2.97967857e+03, 2.98970779e+03, 2.99973701e+03,\n",
       "        3.00976623e+03, 3.01979545e+03, 3.02982468e+03, 3.03985390e+03,\n",
       "        3.04988312e+03, 3.05991234e+03, 3.06994156e+03, 3.07997078e+03,\n",
       "        3.09000000e+03]),\n",
       " <a list of 308 Patch objects>)"
      ]
     },
     "execution_count": 21,
     "metadata": {},
     "output_type": "execute_result"
    },
    {
     "data": {
      "image/png": "[encoded data removed]",
      "text/plain": [
       "<Figure size 432x288 with 1 Axes>"
      ]
     },
     "metadata": {
      "needs_background": "light"
     },
     "output_type": "display_data"
    }
   ],
   "source": [
    "plt.hist(sizes, bins=int((sizes.max() - sizes.min())/10))"
   ]
  },
  {
   "cell_type": "markdown",
   "metadata": {},
   "source": [
    "We see thatmost stocks have very little news coverage. \n",
    "One possible solution would be to bin on a 10 day basis.\n",
    "Another possible solution would be to simply fill the blanks with 0s. This solution feels like the easiest."
   ]
  },
  {
   "cell_type": "code",
   "execution_count": null,
   "metadata": {},
   "outputs": [],
   "source": []
  }
 ],
 "metadata": {
  "kernelspec": {
   "display_name": "Python 3",
   "language": "python",
   "name": "python3"
  },
  "language_info": {
   "codemirror_mode": {
    "name": "ipython",
    "version": 3
   },
   "file_extension": ".py",
   "mimetype": "text/x-python",
   "name": "python",
   "nbconvert_exporter": "python",
   "pygments_lexer": "ipython3",
   "version": "3.6.5"
  }
 },
 "nbformat": 4,
 "nbformat_minor": 2
}
