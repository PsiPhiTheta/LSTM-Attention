{
  "cells": [
    {
      "metadata": {
        "_uuid": "5ffb21374c7cf4b98e7239045ef9bf312effee25"
      },
      "cell_type": "markdown",
      "source": "# Vanilla Net"
    },
    {
      "metadata": {
        "trusted": true,
        "_uuid": "c9fd41029d6cfca6e9bae3f1bfd557a679eda5ec"
      },
      "cell_type": "code",
      "source": "import numpy as np\nimport pandas as pd\nimport matplotlib.pyplot as plt\nfrom itertools import chain\n\n%matplotlib inline\n\nREDUCED = False # Reduce the data size for development and testing",
      "execution_count": 11,
      "outputs": []
    },
    {
      "metadata": {
        "trusted": true,
        "_uuid": "4fdb018eaba527ddc1dff59ae86845dabfbee52d"
      },
      "cell_type": "code",
      "source": "def clean_train_data(news_df, market_df):\n    '''Clean and preprocess the news and market data for training.\n    \n    Parameters\n    ----------\n    news_df : dataframe\n        See https://www.kaggle.com/c/two-sigma-financial-news/data for full description of the dataframe.\n    market_df : dataframe\n        See https://www.kaggle.com/c/two-sigma-financial-news/data for full description of the dataframe.\n    \n    Returns\n    -------\n    dataframe \n        Cleaned data ready to be fed to the model.\n    \n    '''\n    # assetCode, time, volume, open, returnsOpenPrevMktres1, \n    # returnsOpenPrevMkres10, returnsOpenNextMktres10\n    # sentimentNegative, sentimentNeutral, sentimentPositive\n    cols = ['assetCode', 'time', 'volume', 'open', 'returnsOpenPrevMktres1', \n            'returnsOpenPrevMkres10', 'returnsOpenNextMktres10']\n    cleaned_df = market_df.loc[cols]\n    \n    return None",
      "execution_count": 3,
      "outputs": []
    },
    {
      "metadata": {
        "trusted": true,
        "_uuid": "54214ee5c758e6f8f22637e8725d15ffc360c266"
      },
      "cell_type": "code",
      "source": "#TODO: Add cleaned data specifications\n#TODO: Define Returns\ndef train_model(train_df):\n    '''Train the model using the given trianing data.\n    \n    Parameters\n    ----------\n    train_data : dataframe\n        Cleaned data. (Specifications)\n        \n    Returns\n    -------\n\n    '''\n    \n    return None",
      "execution_count": 4,
      "outputs": []
    },
    {
      "metadata": {
        "_uuid": "33186c3231b06ced0157278e9f5ed8f4f9c84192"
      },
      "cell_type": "markdown",
      "source": "## Get competition environment"
    },
    {
      "metadata": {
        "_uuid": "8f2839f25d086af736a60e9eeb907d3b93b6e0e5",
        "_cell_guid": "b1076dfc-b9ad-4769-8c92-a6c4dae69d19",
        "trusted": true
      },
      "cell_type": "code",
      "source": "from kaggle.competitions import twosigmanews\nenv = twosigmanews.make_env()",
      "execution_count": 5,
      "outputs": [
        {
          "output_type": "stream",
          "text": "Loading the data... This could take a minute.\nDone!\n",
          "name": "stdout"
        }
      ]
    },
    {
      "metadata": {
        "_uuid": "d14d4ae98c62668ab6ff1b1aa98168a204031571"
      },
      "cell_type": "markdown",
      "source": "## Get training data"
    },
    {
      "metadata": {
        "trusted": true,
        "_uuid": "c20fa6deeac9d374c98774abd90bdc76b023ee63"
      },
      "cell_type": "code",
      "source": "(market_train_df, news_train_df) = env.get_training_data()\n\nif REDUCED:\n    market_train_df = market_train_df.tail(100_000)\n    news_train_df = news_train_df.tail(300_000)",
      "execution_count": 7,
      "outputs": []
    },
    {
      "metadata": {
        "_uuid": "38a6ee0f4f565b35466396bd071ff6369a94a75c"
      },
      "cell_type": "markdown",
      "source": "## Preprocess and clean the data"
    },
    {
      "metadata": {
        "trusted": true,
        "_uuid": "1aef352177a2d14af19de1cb128a1142d75721cd"
      },
      "cell_type": "code",
      "source": "# Select columns and drop NA\ncols = ['assetCode', 'time', 'volume', 'open', 'returnsOpenPrevMktres1', \n        'returnsOpenPrevMktres10', 'returnsOpenNextMktres10']\nmarket_train_df = market_train_df.loc[:,cols]\nmarket_train_df.dropna(inplace=True)",
      "execution_count": 9,
      "outputs": []
    },
    {
      "metadata": {
        "trusted": true,
        "_uuid": "de7bbe376af84a62b32dbfe0f595368c8aa3d69a"
      },
      "cell_type": "code",
      "source": "# Select columns and drop NA\ncols = ['time','assetCodes', 'sentimentNegative', 'sentimentNeutral', 'sentimentPositive']\nnews_train_df = news_train_df.loc[:,cols]\nnews_train_df.dropna(inplace=True)",
      "execution_count": 10,
      "outputs": []
    },
    {
      "metadata": {
        "trusted": true,
        "_uuid": "4c2a68bb7f16ee1cafc39179199d90b7f7d97a5a",
        "scrolled": false
      },
      "cell_type": "code",
      "source": "# Normalize time\nmarket_train_df.loc[:, 'time'] = market_train_df.time.dt.normalize()\nnews_train_df.loc[:, 'time'] = news_train_df.time.dt.normalize()\n\n# assetCodes from String to List\nnews_train_df['assetCodes'] = news_train_df['assetCodes'].str.findall(f\"'([\\w\\./]+)'\")",
      "execution_count": 14,
      "outputs": []
    },
    {
      "metadata": {
        "trusted": true,
        "_uuid": "6fb4e18645fd024edd29f4e32d2e02e5b848e4c7"
      },
      "cell_type": "code",
      "source": "# Explode news on assetCodes\nassetCodes_expanded = list(chain(*news_train_df['assetCodes']))\nassetCodes_index = news_train_df.index.repeat(news_train_df['assetCodes'].apply(len))\n\nassert len(assetCodes_expanded) == len(assetCodes_index)",
      "execution_count": 39,
      "outputs": []
    },
    {
      "metadata": {
        "trusted": true,
        "_uuid": "a4094e3fd134232f335d4792ba04fb7e5d407cc6"
      },
      "cell_type": "code",
      "source": "assetCodes_df =  pd.DataFrame({'index': assetCodes_index, 'assetCode': assetCodes_expanded})\nnews_train_df_exploded = news_train_df.merge(assetCodes_df, 'right', right_on='index', left_index=True, validate='1:m')\nnews_train_df_exploded.drop(['assetCodes', 'index'], 1, inplace=True)",
      "execution_count": 57,
      "outputs": []
    },
    {
      "metadata": {
        "trusted": true,
        "_uuid": "336cb9b8df3a7e56c9d315e2a94f7abdd2bee28c"
      },
      "cell_type": "code",
      "source": "# Compute means for same date and assetCode\nnews_agg_dict = {\n    'sentimentNegative':'mean'\n    ,'sentimentNeutral':'mean'\n    ,'sentimentPositive':'mean'\n}\nnews_train_df_agg = news_train_df_exploded.groupby(['time', 'assetCode'], as_index=False).agg(news_agg_dict)",
      "execution_count": 75,
      "outputs": []
    },
    {
      "metadata": {
        "trusted": true,
        "scrolled": true,
        "_uuid": "9ed3b0db1d9ac57e09d4818ce439e85a00d705bd"
      },
      "cell_type": "code",
      "source": "# Merge on market data\nX = market_train_df.merge(news_train_df_agg, 'left', ['time', 'assetCode'])",
      "execution_count": 77,
      "outputs": []
    },
    {
      "metadata": {
        "_uuid": "7f27c9b0c0b1e255935bc432d2454a36928d2b53"
      },
      "cell_type": "markdown",
      "source": "## Train the model"
    },
    {
      "metadata": {
        "trusted": true,
        "_uuid": "85e6235365c34283e32d0e0484f2874a14ebd092"
      },
      "cell_type": "code",
      "source": "train_model(train_df)",
      "execution_count": null,
      "outputs": []
    },
    {
      "metadata": {
        "_uuid": "763d8d5693ecb9156dc48a613b05ad28292b7d87"
      },
      "cell_type": "markdown",
      "source": "## Make predictions on test data"
    },
    {
      "metadata": {
        "trusted": true,
        "_uuid": "724c38149860c8e9058474ac9045c2301e8a20da"
      },
      "cell_type": "code",
      "source": "days = env.get_prediction_days()",
      "execution_count": null,
      "outputs": []
    },
    {
      "metadata": {
        "trusted": true,
        "_uuid": "a3f2197ed790f1aff1356a6954575fde976a4935"
      },
      "cell_type": "code",
      "source": "import numpy as np\ndef make_random_predictions(predictions_df):\n    predictions_df.confidenceValue = 2.0 * np.random.rand(len(predictions_df)) - 1.0",
      "execution_count": null,
      "outputs": []
    },
    {
      "metadata": {
        "trusted": true,
        "_uuid": "ef60bc52a8a228e5a2ce18e4bd416f1f1f25aeae"
      },
      "cell_type": "code",
      "source": "for (market_obs_df, news_obs_df, predictions_template_df) in days:\n    make_random_predictions(predictions_template_df)\n    env.predict(predictions_template_df)\nprint('Done!')",
      "execution_count": null,
      "outputs": []
    },
    {
      "metadata": {
        "trusted": true,
        "_uuid": "2c8ed34ffb2c47c6e124530ec798c0b4eb01ddd5"
      },
      "cell_type": "code",
      "source": "env.write_submission_file()",
      "execution_count": null,
      "outputs": []
    }
  ],
  "metadata": {
    "kernelspec": {
      "display_name": "Python 3",
      "language": "python",
      "name": "python3"
    },
    "language_info": {
      "name": "python",
      "version": "3.6.6",
      "mimetype": "text/x-python",
      "codemirror_mode": {
        "name": "ipython",
        "version": 3
      },
      "pygments_lexer": "ipython3",
      "nbconvert_exporter": "python",
      "file_extension": ".py"
    }
  },
  "nbformat": 4,
  "nbformat_minor": 1
}