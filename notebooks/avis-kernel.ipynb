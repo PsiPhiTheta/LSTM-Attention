{
  "cells": [
    {
      "metadata": {
        "_uuid": "5ffb21374c7cf4b98e7239045ef9bf312effee25"
      },
      "cell_type": "markdown",
      "source": "# Vanilla Net"
    },
    {
      "metadata": {
        "trusted": true,
        "_uuid": "c9fd41029d6cfca6e9bae3f1bfd557a679eda5ec"
      },
      "cell_type": "code",
      "source": "%matplotlib inline\n\nimport numpy as np\nimport pandas as pd\nimport matplotlib.pyplot as plt\n\ndef clean_train_data(news_df, market_df):\n    '''Clean and preprocess the news and market data for training.\n    \n    Parameters\n    ----------\n    news_df : dataframe\n        See https://www.kaggle.com/c/two-sigma-financial-news/data for full description of the dataframe.\n    market_df : dataframe\n        See https://www.kaggle.com/c/two-sigma-financial-news/data for full description of the dataframe.\n    \n    Returns\n    -------\n    dataframe \n        Cleaned data ready to be fed to the model.\n    \n    '''\n    # assetCode, time, volume, open, returnsOpenPrevMktres1, \n    # returnsOpenPrevMkres10, returnsOpenNextMktres10\n    # sentimentNegative, sentimentNeutral, sentimentPositive\n    cols = ['assetCode', 'time', 'volume', 'open', 'returnsOpenPrevMktres1', \n            'returnsOpenPrevMkres10', 'returnsOpenNextMktres10']\n    cleaned_df = market_df.loc[cols]\n    \n    return None\n\n#TODO: Add cleaned data specifications\n#TODO: Define Returns\ndef train_model(train_df):\n    '''Train the model using the given trianing data.\n    \n    Parameters\n    ----------\n    train_data : dataframe\n        Cleaned data. (Specifications)\n        \n    Returns\n    -------\n\n    '''\n    \n    return None\n\n",
      "execution_count": 3,
      "outputs": []
    },
    {
      "metadata": {
        "_uuid": "33186c3231b06ced0157278e9f5ed8f4f9c84192"
      },
      "cell_type": "markdown",
      "source": "## Get competition environment"
    },
    {
      "metadata": {
        "_uuid": "8f2839f25d086af736a60e9eeb907d3b93b6e0e5",
        "_cell_guid": "b1076dfc-b9ad-4769-8c92-a6c4dae69d19",
        "trusted": true
      },
      "cell_type": "code",
      "source": "from kaggle.competitions import twosigmanews\nenv = twosigmanews.make_env()",
      "execution_count": 4,
      "outputs": [
        {
          "output_type": "stream",
          "text": "Loading the data... This could take a minute.\nDone!\n",
          "name": "stdout"
        }
      ]
    },
    {
      "metadata": {
        "_uuid": "d14d4ae98c62668ab6ff1b1aa98168a204031571"
      },
      "cell_type": "markdown",
      "source": "## Get training data"
    },
    {
      "metadata": {
        "trusted": true,
        "_uuid": "c20fa6deeac9d374c98774abd90bdc76b023ee63"
      },
      "cell_type": "code",
      "source": "(market_train_df, news_train_df) = env.get_training_data()",
      "execution_count": 5,
      "outputs": []
    },
    {
      "metadata": {
        "_uuid": "38a6ee0f4f565b35466396bd071ff6369a94a75c"
      },
      "cell_type": "markdown",
      "source": "## Preprocess and clean the data"
    },
    {
      "metadata": {
        "trusted": true,
        "_uuid": "1aef352177a2d14af19de1cb128a1142d75721cd"
      },
      "cell_type": "code",
      "source": "# Select relevant columns\ncols = ['assetCode', 'time', 'volume', 'open', 'returnsOpenPrevMktres1', \n        'returnsOpenPrevMktres10', 'returnsOpenNextMktres10']\nmarket_train_df = market_train_df.loc[:,cols]\nmarket_train_df.dropna(inplace=True)",
      "execution_count": 13,
      "outputs": []
    },
    {
      "metadata": {
        "trusted": true,
        "_uuid": "de7bbe376af84a62b32dbfe0f595368c8aa3d69a"
      },
      "cell_type": "code",
      "source": "# Select wanted columns\ncols = ['time', 'urgency','assetCodes', 'relevance', 'sentimentNegative', 'sentimentNeutral', 'sentimentPositive']\nnews_train_df = news_train_df.loc[:,cols]\nnews_train_df.dropna(inplace=True)",
      "execution_count": 14,
      "outputs": []
    },
    {
      "metadata": {
        "trusted": true,
        "_uuid": "4c2a68bb7f16ee1cafc39179199d90b7f7d97a5a",
        "scrolled": false
      },
      "cell_type": "code",
      "source": "from itertools import chain\n\n# Create new dataframe where each entry represents one time/asset pair\ntrain_df = market_train_df.copy()\n\n# Normalize time\ntrain_df.loc[:, 'time'] = train_df.time.dt.normalize()\nnews_train_df.loc[:, 'time'] = news_train_df.time.dt.normalize()\n\n# assetCodes from String to List\nnews_train_df['assetCodes'] = news_train_df['assetCodes'].str.findall(f\"'([\\w\\./]+)'\")",
      "execution_count": 15,
      "outputs": []
    },
    {
      "metadata": {
        "trusted": true,
        "_uuid": "6fb4e18645fd024edd29f4e32d2e02e5b848e4c7"
      },
      "cell_type": "code",
      "source": "# assetCodes = list(chain(*news_train_df['assetCodes']))\nassetCodes_expanded = list(chain(*news_train_df['assetCodes']))\nassetCodes_index = news_train_df.index.repeat(news_train_df['assetCodes'].apply(len))",
      "execution_count": 21,
      "outputs": []
    },
    {
      "metadata": {
        "trusted": true,
        "_uuid": "412f562e5a7174e332b9061bd1f7fdd1a8446023"
      },
      "cell_type": "code",
      "source": "",
      "execution_count": 22,
      "outputs": [
        {
          "output_type": "stream",
          "text": "Int64Index([      0,       0,       0,       0,       1,       2,       2,\n                  3,       3,       3,\n            ...\n            9328743, 9328744, 9328744, 9328745, 9328746, 9328747, 9328747,\n            9328748, 9328748, 9328749],\n           dtype='int64', length=18821885)\n",
          "name": "stdout"
        }
      ]
    },
    {
      "metadata": {
        "trusted": true,
        "_uuid": "e3f7ff93deb7658374c2ff396a2a8b9b9cfc9142"
      },
      "cell_type": "code",
      "source": "clean_train_df = clean_data(news_train_df, market_train_df)",
      "execution_count": null,
      "outputs": []
    },
    {
      "metadata": {
        "_uuid": "7f27c9b0c0b1e255935bc432d2454a36928d2b53"
      },
      "cell_type": "markdown",
      "source": "## Train the model"
    },
    {
      "metadata": {
        "trusted": true,
        "_uuid": "85e6235365c34283e32d0e0484f2874a14ebd092"
      },
      "cell_type": "code",
      "source": "train_model(train_df)",
      "execution_count": null,
      "outputs": []
    },
    {
      "metadata": {
        "_uuid": "763d8d5693ecb9156dc48a613b05ad28292b7d87"
      },
      "cell_type": "markdown",
      "source": "## Make predictions on test data"
    },
    {
      "metadata": {
        "trusted": true,
        "_uuid": "724c38149860c8e9058474ac9045c2301e8a20da"
      },
      "cell_type": "code",
      "source": "days = env.get_prediction_days()",
      "execution_count": null,
      "outputs": []
    },
    {
      "metadata": {
        "trusted": true,
        "_uuid": "a3f2197ed790f1aff1356a6954575fde976a4935"
      },
      "cell_type": "code",
      "source": "import numpy as np\ndef make_random_predictions(predictions_df):\n    predictions_df.confidenceValue = 2.0 * np.random.rand(len(predictions_df)) - 1.0",
      "execution_count": null,
      "outputs": []
    },
    {
      "metadata": {
        "trusted": true,
        "_uuid": "ef60bc52a8a228e5a2ce18e4bd416f1f1f25aeae"
      },
      "cell_type": "code",
      "source": "for (market_obs_df, news_obs_df, predictions_template_df) in days:\n    make_random_predictions(predictions_template_df)\n    env.predict(predictions_template_df)\nprint('Done!')",
      "execution_count": null,
      "outputs": []
    },
    {
      "metadata": {
        "trusted": true,
        "_uuid": "2c8ed34ffb2c47c6e124530ec798c0b4eb01ddd5"
      },
      "cell_type": "code",
      "source": "env.write_submission_file()",
      "execution_count": null,
      "outputs": []
    }
  ],
  "metadata": {
    "kernelspec": {
      "display_name": "Python 3",
      "language": "python",
      "name": "python3"
    },
    "language_info": {
      "name": "python",
      "version": "3.6.6",
      "mimetype": "text/x-python",
      "codemirror_mode": {
        "name": "ipython",
        "version": 3
      },
      "pygments_lexer": "ipython3",
      "nbconvert_exporter": "python",
      "file_extension": ".py"
    }
  },
  "nbformat": 4,
  "nbformat_minor": 1
}