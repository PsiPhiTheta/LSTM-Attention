{
 "cells": [
  {
   "cell_type": "markdown",
   "metadata": {},
   "source": [
    "## Goal \n",
    "Filter non-continuous stocks. That is, filter out stocks that do not span the entire time series."
   ]
  },
  {
   "cell_type": "code",
   "execution_count": 1,
   "metadata": {},
   "outputs": [],
   "source": [
    "import sys\n",
    "sys.path.append(r'../models/')\n",
    "\n",
    "import pandas as pd\n",
    "from data_cleaning import MARKET_DATA_PATH, NEWS_DATA_PATH, clean_market_data"
   ]
  },
  {
   "cell_type": "code",
   "execution_count": 2,
   "metadata": {},
   "outputs": [],
   "source": [
    "market_train_df = pd.read_csv(MARKET_DATA_PATH)\n",
    "# news_train_df = pd.read_csv(NEWS_DATA_PATH)"
   ]
  },
  {
   "cell_type": "code",
   "execution_count": 3,
   "metadata": {},
   "outputs": [],
   "source": [
    "clean_market_df = clean_market_data(market_train_df)"
   ]
  },
  {
   "cell_type": "code",
   "execution_count": 5,
   "metadata": {},
   "outputs": [
    {
     "data": {
      "text/html": [
       "<div>\n",
       "<style scoped>\n",
       "    .dataframe tbody tr th:only-of-type {\n",
       "        vertical-align: middle;\n",
       "    }\n",
       "\n",
       "    .dataframe tbody tr th {\n",
       "        vertical-align: top;\n",
       "    }\n",
       "\n",
       "    .dataframe thead th {\n",
       "        text-align: right;\n",
       "    }\n",
       "</style>\n",
       "<table border=\"1\" class=\"dataframe\">\n",
       "  <thead>\n",
       "    <tr style=\"text-align: right;\">\n",
       "      <th></th>\n",
       "      <th>assetCode</th>\n",
       "      <th>time</th>\n",
       "      <th>volume</th>\n",
       "      <th>open</th>\n",
       "      <th>returnsOpenPrevMktres1</th>\n",
       "      <th>returnsOpenPrevMktres10</th>\n",
       "      <th>returnsOpenNextMktres10</th>\n",
       "    </tr>\n",
       "  </thead>\n",
       "  <tbody>\n",
       "    <tr>\n",
       "      <th>14290</th>\n",
       "      <td>A.N</td>\n",
       "      <td>2007-02-15</td>\n",
       "      <td>4095135.0</td>\n",
       "      <td>32.990</td>\n",
       "      <td>-0.001572</td>\n",
       "      <td>0.007461</td>\n",
       "      <td>-0.029993</td>\n",
       "    </tr>\n",
       "    <tr>\n",
       "      <th>14291</th>\n",
       "      <td>AAI.N</td>\n",
       "      <td>2007-02-15</td>\n",
       "      <td>1378650.0</td>\n",
       "      <td>11.650</td>\n",
       "      <td>-0.001498</td>\n",
       "      <td>-0.010884</td>\n",
       "      <td>-0.013111</td>\n",
       "    </tr>\n",
       "    <tr>\n",
       "      <th>14292</th>\n",
       "      <td>AAP.N</td>\n",
       "      <td>2007-02-15</td>\n",
       "      <td>3884400.0</td>\n",
       "      <td>37.000</td>\n",
       "      <td>-0.019388</td>\n",
       "      <td>-0.026448</td>\n",
       "      <td>-0.028244</td>\n",
       "    </tr>\n",
       "    <tr>\n",
       "      <th>14293</th>\n",
       "      <td>AAPL.O</td>\n",
       "      <td>2007-02-15</td>\n",
       "      <td>12997017.0</td>\n",
       "      <td>85.310</td>\n",
       "      <td>0.000738</td>\n",
       "      <td>-0.044809</td>\n",
       "      <td>-0.014505</td>\n",
       "    </tr>\n",
       "    <tr>\n",
       "      <th>14294</th>\n",
       "      <td>ABB.N</td>\n",
       "      <td>2007-02-15</td>\n",
       "      <td>10168100.0</td>\n",
       "      <td>18.245</td>\n",
       "      <td>-0.026040</td>\n",
       "      <td>-0.010927</td>\n",
       "      <td>0.017172</td>\n",
       "    </tr>\n",
       "  </tbody>\n",
       "</table>\n",
       "</div>"
      ],
      "text/plain": [
       "      assetCode       time      volume    open  returnsOpenPrevMktres1  \\\n",
       "14290       A.N 2007-02-15   4095135.0  32.990               -0.001572   \n",
       "14291     AAI.N 2007-02-15   1378650.0  11.650               -0.001498   \n",
       "14292     AAP.N 2007-02-15   3884400.0  37.000               -0.019388   \n",
       "14293    AAPL.O 2007-02-15  12997017.0  85.310                0.000738   \n",
       "14294     ABB.N 2007-02-15  10168100.0  18.245               -0.026040   \n",
       "\n",
       "       returnsOpenPrevMktres10  returnsOpenNextMktres10  \n",
       "14290                 0.007461                -0.029993  \n",
       "14291                -0.010884                -0.013111  \n",
       "14292                -0.026448                -0.028244  \n",
       "14293                -0.044809                -0.014505  \n",
       "14294                -0.010927                 0.017172  "
      ]
     },
     "execution_count": 5,
     "metadata": {},
     "output_type": "execute_result"
    }
   ],
   "source": [
    "clean_market_df.head(5)"
   ]
  },
  {
   "cell_type": "code",
   "execution_count": 16,
   "metadata": {},
   "outputs": [
    {
     "data": {
      "text/plain": [
       "2488"
      ]
     },
     "execution_count": 16,
     "metadata": {},
     "output_type": "execute_result"
    }
   ],
   "source": [
    "clean_market_df.time.nunique()"
   ]
  },
  {
   "cell_type": "code",
   "execution_count": 10,
   "metadata": {
    "scrolled": true
   },
   "outputs": [
    {
     "data": {
      "text/plain": [
       "assetCode\n",
       "A.N         2488\n",
       "AAI.N        879\n",
       "AAL.O        772\n",
       "AAMRQ.OB      70\n",
       "AAN.N       1486\n",
       "dtype: int64"
      ]
     },
     "execution_count": 10,
     "metadata": {},
     "output_type": "execute_result"
    }
   ],
   "source": [
    "clean_market_df.groupby('assetCode').size().head()"
   ]
  },
  {
   "cell_type": "code",
   "execution_count": 19,
   "metadata": {},
   "outputs": [
    {
     "data": {
      "text/plain": [
       "522"
      ]
     },
     "execution_count": 19,
     "metadata": {},
     "output_type": "execute_result"
    }
   ],
   "source": [
    "sel = clean_market_df.groupby('assetCode').size() == clean_market_df.time.nunique()\n",
    "sum(sel)"
   ]
  },
  {
   "cell_type": "markdown",
   "metadata": {},
   "source": [
    "522 stocks span the entire time series. We want to filter only those out.\n",
    "\n",
    "---"
   ]
  },
  {
   "cell_type": "code",
   "execution_count": 21,
   "metadata": {},
   "outputs": [],
   "source": [
    "series_len = clean_market_df.time.nunique()\n",
    "clean_market_df = clean_market_df.groupby('assetCode').filter(lambda x: len(x) == series_len)"
   ]
  },
  {
   "cell_type": "code",
   "execution_count": 25,
   "metadata": {},
   "outputs": [],
   "source": [
    "# Confirm that we are left only with the ones covering the whole series\n",
    "assert (clean_market_df.groupby('assetCode').size() == series_len).all()"
   ]
  }
 ],
 "metadata": {
  "kernelspec": {
   "display_name": "Python 3",
   "language": "python",
   "name": "python3"
  },
  "language_info": {
   "codemirror_mode": {
    "name": "ipython",
    "version": 3
   },
   "file_extension": ".py",
   "mimetype": "text/x-python",
   "name": "python",
   "nbconvert_exporter": "python",
   "pygments_lexer": "ipython3",
   "version": "3.6.5"
  }
 },
 "nbformat": 4,
 "nbformat_minor": 2
}
